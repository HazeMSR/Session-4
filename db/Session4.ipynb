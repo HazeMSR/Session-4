{
 "cells": [
  {
   "cell_type": "code",
   "execution_count": 1,
   "id": "0c260c87-6856-4dd5-8b9d-3295a27c0297",
   "metadata": {},
   "outputs": [],
   "source": [
    "from pyspark.sql import SparkSession\n",
    "\n",
    "#Create the SparkSession using the postgres driver as a config\n",
    "spark = SparkSession \\\n",
    "    .builder \\\n",
    "    .appName(\"Session-4\") \\\n",
    "    .config(\"spark.jars\", \"postgresql-driver.jar\") \\\n",
    "    .getOrCreate()"
   ]
  },
  {
   "cell_type": "code",
   "execution_count": 2,
   "id": "36714099-d4b3-46e5-8db5-3d03a4cdceb8",
   "metadata": {},
   "outputs": [
    {
     "name": "stdout",
     "output_type": "stream",
     "text": [
      "root\n",
      " |-- inventory_id: integer (nullable = true)\n",
      " |-- film_id: short (nullable = true)\n",
      " |-- store_id: short (nullable = true)\n",
      " |-- last_update: timestamp (nullable = true)\n",
      "\n"
     ]
    }
   ],
   "source": [
    "# Create a new dataframe using the postgres driver in order to access to db\n",
    "inv_df = spark.read \\\n",
    "    .format(\"jdbc\") \\\n",
    "    .option(\"url\", \"jdbc:postgresql://3.85.128.234:8081/dvdrental\") \\\n",
    "    .option(\"dbtable\", \"inventory\") \\\n",
    "    .option(\"user\", \"myself\") \\\n",
    "    .option(\"password\", \"mysecretpassword\") \\\n",
    "    .option(\"driver\", \"org.postgresql.Driver\") \\\n",
    "    .load()\n",
    "\n",
    "inv_df.printSchema()"
   ]
  },
  {
   "cell_type": "code",
   "execution_count": 14,
   "id": "e490158f-51da-47ed-9cde-808851bc2b4f",
   "metadata": {},
   "outputs": [
    {
     "name": "stdout",
     "output_type": "stream",
     "text": [
      "+------------+-------+--------+-------------------+\n",
      "|inventory_id|film_id|store_id|        last_update|\n",
      "+------------+-------+--------+-------------------+\n",
      "|           1|      1|       1|2006-02-15 10:09:17|\n",
      "|           2|      1|       1|2006-02-15 10:09:17|\n",
      "|           3|      1|       1|2006-02-15 10:09:17|\n",
      "|           4|      1|       1|2006-02-15 10:09:17|\n",
      "|           5|      1|       2|2006-02-15 10:09:17|\n",
      "+------------+-------+--------+-------------------+\n",
      "only showing top 5 rows\n",
      "\n"
     ]
    }
   ],
   "source": [
    "inv_df.show(5)"
   ]
  },
  {
   "cell_type": "code",
   "execution_count": 17,
   "id": "97f494d3-1b88-4a6e-9d28-c2ded1d523c6",
   "metadata": {},
   "outputs": [
    {
     "name": "stdout",
     "output_type": "stream",
     "text": [
      "+-------+-----------------+--------------------+------------+-----------+---------------+-----------+------+----------------+------+--------------------+--------------------+--------------------+\n",
      "|film_id|            title|         description|release_year|language_id|rental_duration|rental_rate|length|replacement_cost|rating|         last_update|    special_features|            fulltext|\n",
      "+-------+-----------------+--------------------+------------+-----------+---------------+-----------+------+----------------+------+--------------------+--------------------+--------------------+\n",
      "|    133|  Chamber Italian|A Fateful Reflect...|        2006|          1|              7|       4.99|   117|           14.99| NC-17|2013-05-26 14:50:...|          [Trailers]|'chamber':1 'fate...|\n",
      "|    384| Grosse Wonderful|A Epic Drama of a...|        2006|          1|              5|       4.99|    49|           19.99|     R|2013-05-26 14:50:...| [Behind the Scenes]|'australia':18 'c...|\n",
      "|      8|  Airport Pollock|A Epic Tale of a ...|        2006|          1|              6|       4.99|    54|           15.99|     R|2013-05-26 14:50:...|          [Trailers]|'airport':1 'anci...|\n",
      "|     98|Bright Encounters|A Fateful Yarn of...|        2006|          1|              4|       4.99|    73|           12.99| PG-13|2013-05-26 14:50:...|          [Trailers]|'boat':20 'bright...|\n",
      "|      1| Academy Dinosaur|A Epic Drama of a...|        2006|          1|              6|       0.99|    86|           20.99|    PG|2013-05-26 14:50:...|[Deleted Scenes, ...|'academi':1 'batt...|\n",
      "+-------+-----------------+--------------------+------------+-----------+---------------+-----------+------+----------------+------+--------------------+--------------------+--------------------+\n",
      "only showing top 5 rows\n",
      "\n"
     ]
    }
   ],
   "source": [
    "film_df = spark.read \\\n",
    "    .format(\"jdbc\") \\\n",
    "    .option(\"url\", \"jdbc:postgresql://3.85.128.234:8081/dvdrental\") \\\n",
    "    .option(\"dbtable\", \"film\") \\\n",
    "    .option(\"user\", \"myself\") \\\n",
    "    .option(\"password\", \"mysecretpassword\") \\\n",
    "    .option(\"driver\", \"org.postgresql.Driver\") \\\n",
    "    .load()\n",
    "\n",
    "film_df.show(5)"
   ]
  },
  {
   "cell_type": "code",
   "execution_count": 41,
   "id": "19166fb8-eb3c-4259-ab32-a77366bfd642",
   "metadata": {},
   "outputs": [],
   "source": [
    "# We create a dataframe with data in order to create a parquet file\n",
    "parquet_data = [(\"James \",\"\",\"Smith\",\"36636\",\"M\",3000),\n",
    "              (\"Michael \",\"Rose\",\"\",\"40288\",\"M\",4000),\n",
    "              (\"Robert \",\"\",\"Williams\",\"42114\",\"M\",4000),\n",
    "              (\"Maria \",\"Anne\",\"Jones\",\"39192\",\"F\",4000),\n",
    "              (\"Jen\",\"Mary\",\"Brown\",\"\",\"F\",-1)]\n",
    "\n",
    "parquet_columns = [\"firstname\",\"middlename\",\"lastname\",\"dob\",\"gender\",\"salary\"]\n",
    "\n",
    "parquet_df = spark.createDataFrame(parquet_data, parquet_columns)"
   ]
  },
  {
   "cell_type": "code",
   "execution_count": null,
   "id": "b8ef0a80-13b2-4d52-9fb3-e726ded44032",
   "metadata": {},
   "outputs": [],
   "source": []
  },
  {
   "cell_type": "code",
   "execution_count": 42,
   "id": "4ff9d411-619b-4549-8255-f36a6b2174dd",
   "metadata": {},
   "outputs": [],
   "source": [
    "# Write the content of your dataframe in a parquet file\n",
    "parquet_df.write.parquet(\"people.parquet\")"
   ]
  },
  {
   "cell_type": "code",
   "execution_count": 43,
   "id": "df116144-014c-4728-9952-80f544084db4",
   "metadata": {},
   "outputs": [
    {
     "name": "stdout",
     "output_type": "stream",
     "text": [
      "+---------+----------+--------+-----+------+------+\n",
      "|firstname|middlename|lastname|  dob|gender|salary|\n",
      "+---------+----------+--------+-----+------+------+\n",
      "|  Robert |          |Williams|42114|     M|  4000|\n",
      "|   Maria |      Anne|   Jones|39192|     F|  4000|\n",
      "|      Jen|      Mary|   Brown|     |     F|    -1|\n",
      "|   James |          |   Smith|36636|     M|  3000|\n",
      "| Michael |      Rose|        |40288|     M|  4000|\n",
      "+---------+----------+--------+-----+------+------+\n",
      "\n"
     ]
    }
   ],
   "source": [
    "# Read your parquet file and load it into a dataframe\n",
    "people_df = spark.read.parquet(\"people.parquet\")\n",
    "people_df.show()"
   ]
  },
  {
   "cell_type": "code",
   "execution_count": 44,
   "id": "e822894d-e9e9-49c3-b888-bf8873213fc6",
   "metadata": {},
   "outputs": [
    {
     "name": "stdout",
     "output_type": "stream",
     "text": [
      "+---------+----------+--------+-----+------+------+\n",
      "|firstname|middlename|lastname|  dob|gender|salary|\n",
      "+---------+----------+--------+-----+------+------+\n",
      "|  Robert |          |Williams|42114|     M|  4000|\n",
      "|   Maria |      Anne|   Jones|39192|     F|  4000|\n",
      "|      Jen|      Mary|   Brown|     |     F|    -1|\n",
      "|  Robert |          |Williams|42114|     M|  4000|\n",
      "|   James |          |   Smith|36636|     M|  3000|\n",
      "| Michael |      Rose|        |40288|     M|  4000|\n",
      "|   James |          |   Smith|36636|     M|  3000|\n",
      "| Michael |      Rose|        |40288|     M|  4000|\n",
      "+---------+----------+--------+-----+------+------+\n",
      "\n"
     ]
    }
   ],
   "source": [
    "# Append in order to add more rows to the parquet\n",
    "\n",
    "male_people_df = people_df.filter('gender == \"M\"')\n",
    "male_people_df.write.mode('append').parquet(\"people.parquet\")\n",
    "m_df = spark.read.parquet(\"people.parquet\")\n",
    "m_df.show()\n"
   ]
  },
  {
   "cell_type": "code",
   "execution_count": 50,
   "id": "1170862f-a7fc-4d4a-a138-f377e1e35833",
   "metadata": {},
   "outputs": [
    {
     "name": "stdout",
     "output_type": "stream",
     "text": [
      "+---------+----------+--------+-----+------+------+\n",
      "|firstname|middlename|lastname|  dob|gender|salary|\n",
      "+---------+----------+--------+-----+------+------+\n",
      "|  Robert |          |Williams|42114|     M|  4000|\n",
      "|   Maria |      Anne|   Jones|39192|     F|  4000|\n",
      "| Michael |      Rose|        |40288|     M|  4000|\n",
      "+---------+----------+--------+-----+------+------+\n",
      "\n"
     ]
    }
   ],
   "source": [
    "# We can create temp tables\n",
    "\n",
    "people_df.createOrReplaceTempView(\"ParquetTable\")\n",
    "sql_context = spark.sql(\"select * from ParquetTable where salary >= 4000 \")\n",
    "sql_context.show()"
   ]
  },
  {
   "cell_type": "code",
   "execution_count": 51,
   "id": "0737e20e-0e7f-4e50-b41d-4ffb81431620",
   "metadata": {},
   "outputs": [
    {
     "name": "stdout",
     "output_type": "stream",
     "text": [
      "+---------+----------+--------+-----+------+------+\n",
      "|firstname|middlename|lastname|  dob|gender|salary|\n",
      "+---------+----------+--------+-----+------+------+\n",
      "|  Robert |          |Williams|42114|     M|  4000|\n",
      "|   Maria |      Anne|   Jones|39192|     F|  4000|\n",
      "|      Jen|      Mary|   Brown|     |     F|    -1|\n",
      "|  Robert |          |Williams|42114|     M|  4000|\n",
      "|   James |          |   Smith|36636|     M|  3000|\n",
      "| Michael |      Rose|        |40288|     M|  4000|\n",
      "|   James |          |   Smith|36636|     M|  3000|\n",
      "| Michael |      Rose|        |40288|     M|  4000|\n",
      "+---------+----------+--------+-----+------+------+\n",
      "\n"
     ]
    }
   ],
   "source": [
    "# Also we can create the temp table directly into the parquet file\n",
    "\n",
    "spark.sql(\"CREATE TEMPORARY VIEW PERSON USING parquet OPTIONS (path \\\"people.parquet\\\")\")\n",
    "spark.sql(\"SELECT * FROM PERSON\").show()"
   ]
  },
  {
   "cell_type": "code",
   "execution_count": 53,
   "id": "69be7b17-738a-4e0b-8830-410c699f618e",
   "metadata": {},
   "outputs": [],
   "source": [
    "# We can partition our tables in order to improve our query speed\n",
    "people_df.write.partitionBy(\"gender\",\"salary\").mode(\"overwrite\").parquet(\"people2.parquet\")\n"
   ]
  },
  {
   "cell_type": "code",
   "execution_count": 54,
   "id": "c363beae-fdb5-47e0-aea2-3cdffd4a4d87",
   "metadata": {},
   "outputs": [
    {
     "name": "stdout",
     "output_type": "stream",
     "text": [
      "+---------+----------+--------+-----+------+\n",
      "|firstname|middlename|lastname|dob  |salary|\n",
      "+---------+----------+--------+-----+------+\n",
      "|Robert   |          |Williams|42114|4000  |\n",
      "|Michael  |Rose      |        |40288|4000  |\n",
      "|James    |          |Smith   |36636|3000  |\n",
      "+---------+----------+--------+-----+------+\n",
      "\n"
     ]
    }
   ],
   "source": [
    "# Retrieving from a parquet partition\n",
    "male2_df = spark.read.parquet(\"people2.parquet/gender=M\")\n",
    "male2_df.show(truncate=False)"
   ]
  },
  {
   "cell_type": "code",
   "execution_count": 55,
   "id": "19f86f7d-94f9-45e6-b02e-ef503fa9e8b9",
   "metadata": {},
   "outputs": [
    {
     "name": "stdout",
     "output_type": "stream",
     "text": [
      "+---------+----------+--------+-----+------+\n",
      "|firstname|middlename|lastname|  dob|salary|\n",
      "+---------+----------+--------+-----+------+\n",
      "|   Maria |      Anne|   Jones|39192|  4000|\n",
      "|      Jen|      Mary|   Brown|     |    -1|\n",
      "+---------+----------+--------+-----+------+\n",
      "\n"
     ]
    }
   ],
   "source": [
    "# Creating a temp table from a partitioned parquet file\n",
    "\n",
    "spark.sql(\"CREATE TEMPORARY VIEW PERSON2 USING parquet OPTIONS (path \\\"people2.parquet/gender=F\\\")\")\n",
    "spark.sql(\"SELECT * FROM PERSON2\" ).show()"
   ]
  },
  {
   "cell_type": "code",
   "execution_count": 57,
   "id": "3afc3db6-ccfd-412b-b1b1-fd003778ef40",
   "metadata": {},
   "outputs": [
    {
     "name": "stdout",
     "output_type": "stream",
     "text": [
      "     Name  Age\n",
      "0   Scott   50\n",
      "1    Jeff   45\n",
      "2  Thomas   54\n",
      "3     Ann   34\n"
     ]
    }
   ],
   "source": [
    "import pandas as pd    \n",
    "data = [['Scott', 50], ['Jeff', 45], ['Thomas', 54],['Ann',34]] \n",
    " \n",
    "# Create the pandas DataFrame \n",
    "pandas_df = pd.DataFrame(data, columns = ['Name', 'Age']) \n",
    "  \n",
    "# print dataframe. \n",
    "print(pandasDF)"
   ]
  },
  {
   "cell_type": "code",
   "execution_count": 65,
   "id": "179f5193-6c35-468d-bad7-28f4cdc9ab76",
   "metadata": {},
   "outputs": [
    {
     "name": "stdout",
     "output_type": "stream",
     "text": [
      "+------+---+\n",
      "|  Name|Age|\n",
      "+------+---+\n",
      "| Scott| 50|\n",
      "|  Jeff| 45|\n",
      "|Thomas| 54|\n",
      "|   Ann| 34|\n",
      "+------+---+\n",
      "\n"
     ]
    }
   ],
   "source": [
    "# Create PySpark DataFrame from Pandas\n",
    "spark_pandas_df = spark.createDataFrame(pandas_df) \n",
    "spark_pandas_df.show()"
   ]
  },
  {
   "cell_type": "code",
   "execution_count": 62,
   "id": "d0683abe-1209-4fed-80a3-c5f66aaab365",
   "metadata": {},
   "outputs": [],
   "source": [
    "from pyspark.sql.types import StructType, StructField, StringType, IntegerType\n",
    "\n",
    "# Create User defined Custom Schema using StructType\n",
    "my_schema = StructType([ StructField(\"First Name\", StringType(), True)\\\n",
    "                       ,StructField(\"Age\", IntegerType(), True)])\n"
   ]
  },
  {
   "cell_type": "code",
   "execution_count": 63,
   "id": "181e3570-951d-4362-ad4f-9b8529f4fb95",
   "metadata": {},
   "outputs": [
    {
     "name": "stdout",
     "output_type": "stream",
     "text": [
      "+----------+---+\n",
      "|First Name|Age|\n",
      "+----------+---+\n",
      "|     Scott| 50|\n",
      "|      Jeff| 45|\n",
      "|    Thomas| 54|\n",
      "|       Ann| 34|\n",
      "+----------+---+\n",
      "\n"
     ]
    }
   ],
   "source": [
    "# Create a new dataframe using your new schema as paramater\n",
    "pandas_schema_df = spark.createDataFrame(pandas_df,schema=my_schema)\n",
    "pandas_schema_df.show()"
   ]
  },
  {
   "cell_type": "code",
   "execution_count": 64,
   "id": "3c946717-ba76-453f-be8c-5a6a9ded72f7",
   "metadata": {},
   "outputs": [
    {
     "name": "stdout",
     "output_type": "stream",
     "text": [
      "root\n",
      " |-- First Name: string (nullable = true)\n",
      " |-- Age: integer (nullable = true)\n",
      "\n"
     ]
    }
   ],
   "source": [
    "pandas_schema_df.printSchema()"
   ]
  },
  {
   "cell_type": "code",
   "execution_count": 66,
   "id": "e6108262-616c-4388-b493-8f4afd130e32",
   "metadata": {},
   "outputs": [
    {
     "name": "stdout",
     "output_type": "stream",
     "text": [
      "root\n",
      " |-- Name: string (nullable = true)\n",
      " |-- Age: long (nullable = true)\n",
      "\n"
     ]
    }
   ],
   "source": [
    "spark_pandas_df.printSchema()"
   ]
  },
  {
   "cell_type": "code",
   "execution_count": 67,
   "id": "3aad7432-98ba-4e0d-a06d-c2f373fcd737",
   "metadata": {},
   "outputs": [
    {
     "name": "stdout",
     "output_type": "stream",
     "text": [
      "root\n",
      " |-- Name: string (nullable = true)\n",
      " |-- Age: long (nullable = true)\n",
      "\n"
     ]
    }
   ],
   "source": [
    "# Converting pandas df using apache arrow\n",
    "spark.conf.set(\"spark.sql.execution.arrow.enabled\",\"true\")\n",
    "arrow_df = spark.createDataFrame(pandas_df) \n",
    "arrow_df.printSchema()"
   ]
  },
  {
   "cell_type": "code",
   "execution_count": 68,
   "id": "655d25d0-ecbc-424c-9ffa-4aa8e958450e",
   "metadata": {},
   "outputs": [
    {
     "name": "stdout",
     "output_type": "stream",
     "text": [
      "root\n",
      " |-- first_name: string (nullable = true)\n",
      " |-- middle_name: string (nullable = true)\n",
      " |-- last_name: string (nullable = true)\n",
      " |-- dob: string (nullable = true)\n",
      " |-- gender: string (nullable = true)\n",
      " |-- salary: long (nullable = true)\n",
      "\n",
      "+----------+-----------+---------+-----+------+------+\n",
      "|first_name|middle_name|last_name|dob  |gender|salary|\n",
      "+----------+-----------+---------+-----+------+------+\n",
      "|James     |           |Smith    |36636|M     |60000 |\n",
      "|Michael   |Rose       |         |40288|M     |70000 |\n",
      "|Robert    |           |Williams |42114|      |400000|\n",
      "|Maria     |Anne       |Jones    |39192|F     |500000|\n",
      "|Jen       |Mary       |Brown    |     |F     |0     |\n",
      "+----------+-----------+---------+-----+------+------+\n",
      "\n"
     ]
    }
   ],
   "source": [
    "# Now convert a Spark DF to a Pandas DF\n",
    "# First we create a new spark df\n",
    "data = [(\"James\",\"\",\"Smith\",\"36636\",\"M\",60000),\n",
    "        (\"Michael\",\"Rose\",\"\",\"40288\",\"M\",70000),\n",
    "        (\"Robert\",\"\",\"Williams\",\"42114\",\"\",400000),\n",
    "        (\"Maria\",\"Anne\",\"Jones\",\"39192\",\"F\",500000),\n",
    "        (\"Jen\",\"Mary\",\"Brown\",\"\",\"F\",0)]\n",
    "\n",
    "columns = [\"first_name\",\"middle_name\",\"last_name\",\"dob\",\"gender\",\"salary\"]\n",
    "pyspark_df = spark.createDataFrame(data = data, schema = columns)\n",
    "pyspark_df.printSchema()\n",
    "pyspark_df.show(truncate=False)"
   ]
  },
  {
   "cell_type": "code",
   "execution_count": 70,
   "id": "19145caa-2429-4b41-9106-b06ee894918b",
   "metadata": {},
   "outputs": [
    {
     "name": "stdout",
     "output_type": "stream",
     "text": [
      "  first_name middle_name last_name    dob gender  salary\n",
      "0      James                 Smith  36636      M   60000\n",
      "1    Michael        Rose            40288      M   70000\n",
      "2     Robert              Williams  42114         400000\n",
      "3      Maria        Anne     Jones  39192      F  500000\n",
      "4        Jen        Mary     Brown             F       0\n"
     ]
    }
   ],
   "source": [
    "# Then use toPandas method\n",
    "pandasDF = pyspark_df.toPandas()\n",
    "print(pandasDF)"
   ]
  },
  {
   "cell_type": "code",
   "execution_count": 72,
   "id": "5d983d96-cce8-4b70-a0a0-0ba1b71a7034",
   "metadata": {},
   "outputs": [],
   "source": [
    "# Nested structure elements\n",
    "from pyspark.sql.types import StructType, StructField, StringType,IntegerType\n",
    "data_struct = [((\"James\",\"\",\"Smith\"),\"36636\",\"M\",\"3000\"), \\\n",
    "      ((\"Michael\",\"Rose\",\"\"),\"40288\",\"M\",\"4000\"), \\\n",
    "      ((\"Robert\",\"\",\"Williams\"),\"42114\",\"M\",\"4000\"), \\\n",
    "      ((\"Maria\",\"Anne\",\"Jones\"),\"39192\",\"F\",\"4000\"), \\\n",
    "      ((\"Jen\",\"Mary\",\"Brown\"),\"\",\"F\",\"-1\") \\\n",
    "]"
   ]
  },
  {
   "cell_type": "code",
   "execution_count": 77,
   "id": "f6763aa1-5cb7-4400-9086-7f9dde5c12be",
   "metadata": {},
   "outputs": [
    {
     "name": "stdout",
     "output_type": "stream",
     "text": [
      "+--------------------+-----+------+------+\n",
      "|                name|  dob|gender|salary|\n",
      "+--------------------+-----+------+------+\n",
      "|    {James, , Smith}|36636|     M|  3000|\n",
      "|   {Michael, Rose, }|40288|     M|  4000|\n",
      "|{Robert, , Williams}|42114|     M|  4000|\n",
      "|{Maria, Anne, Jones}|39192|     F|  4000|\n",
      "|  {Jen, Mary, Brown}|     |     F|    -1|\n",
      "+--------------------+-----+------+------+\n",
      "\n"
     ]
    }
   ],
   "source": [
    "# Create the nested schema struct\n",
    "schema_struct = StructType([\n",
    "        StructField('name', StructType([\n",
    "             StructField('firstname', StringType(), True),\n",
    "             StructField('middlename', StringType(), True),\n",
    "             StructField('lastname', StringType(), True)\n",
    "             ])),\n",
    "          StructField('dob', StringType(), True),\n",
    "         StructField('gender', StringType(), True),\n",
    "         StructField('salary', StringType(), True)\n",
    "         ])\n",
    "nested_df = spark.createDataFrame(data=data_struct, schema = schema_struct)\n",
    "nested_df.show()"
   ]
  },
  {
   "cell_type": "code",
   "execution_count": 76,
   "id": "dc949f6c-d863-49b9-8be3-b6cebd049d52",
   "metadata": {},
   "outputs": [
    {
     "name": "stdout",
     "output_type": "stream",
     "text": [
      "                                                name    dob gender salary\n",
      "0  {'firstname': 'James', 'middlename': '', 'last...  36636      M   3000\n",
      "1  {'firstname': 'Michael', 'middlename': 'Rose',...  40288      M   4000\n",
      "2  {'firstname': 'Robert', 'middlename': '', 'las...  42114      M   4000\n",
      "3  {'firstname': 'Maria', 'middlename': 'Anne', '...  39192      F   4000\n",
      "4  {'firstname': 'Jen', 'middlename': 'Mary', 'la...             F     -1\n"
     ]
    }
   ],
   "source": [
    "# Convert to a Pandas DF\n",
    "pandas_df2 = nested_df.toPandas()\n",
    "print(pandas_df2)"
   ]
  },
  {
   "cell_type": "code",
   "execution_count": 1,
   "id": "10409206-3260-4b83-88c7-080dc4996bd0",
   "metadata": {},
   "outputs": [
    {
     "name": "stdout",
     "output_type": "stream",
     "text": [
      "/home/conda/feedstock_root/build_artifacts/arrow-cpp-ext_1644752432717/work/cpp/src/plasma/store.cc:1274: Allowing the Plasma store to use up to 1GB of memory.\n",
      "/home/conda/feedstock_root/build_artifacts/arrow-cpp-ext_1644752432717/work/cpp/src/plasma/store.cc:1297: Starting object store with directory /dev/shm and huge page support disabled\n",
      "^C\n"
     ]
    }
   ],
   "source": [
    "# Install dependencies\n",
    "# !pip install pyarrow\n",
    "\n",
    "# Pyarrow + Plasma\n",
    "\n",
    "# The -m flag specifies the size of the store in bytes, and the -s flag specifies the socket that the store will listen at\n",
    "#!plasma_store -m 1000000000 -s /tmp/plasma"
   ]
  },
  {
   "cell_type": "code",
   "execution_count": 2,
   "id": "37ddff66-bc7c-4e4e-b5ca-545b3541e920",
   "metadata": {},
   "outputs": [
    {
     "data": {
      "text/plain": [
       "<pyarrow._plasma.PlasmaClient at 0x7fb440259c30>"
      ]
     },
     "execution_count": 2,
     "metadata": {},
     "output_type": "execute_result"
    }
   ],
   "source": [
    "# Create a plasma client\n",
    "import pyarrow.plasma as plasma\n",
    "client = plasma.connect(\"/tmp/plasma\")\n",
    "client"
   ]
  },
  {
   "cell_type": "code",
   "execution_count": 3,
   "id": "df5c8bb2-f4b5-47cf-8ddc-67e4046ea0b8",
   "metadata": {},
   "outputs": [
    {
     "data": {
      "text/plain": [
       "ObjectID(6161616161616161616161616161616161616161)"
      ]
     },
     "execution_count": 3,
     "metadata": {},
     "output_type": "execute_result"
    }
   ],
   "source": [
    "# Each object in the Plasma store should be associated with a unique ID\n",
    "id = plasma.ObjectID(20 * b\"a\")\n",
    "id"
   ]
  },
  {
   "cell_type": "code",
   "execution_count": 4,
   "id": "bd23594c-5975-4bd8-9f44-e2437cb8a43b",
   "metadata": {},
   "outputs": [
    {
     "data": {
      "text/plain": [
       "ObjectID(dfd7d049d70fcbac27043d867e31a076672071e6)"
      ]
     },
     "execution_count": 4,
     "metadata": {},
     "output_type": "execute_result"
    }
   ],
   "source": [
    "import numpy as np\n",
    "\n",
    "def random_object_id():\n",
    "  return plasma.ObjectID(np.random.bytes(20))\n",
    "\n",
    "random_object_id()"
   ]
  },
  {
   "cell_type": "code",
   "execution_count": 5,
   "id": "075ee255-5861-40db-9caa-5062a90363ba",
   "metadata": {},
   "outputs": [
    {
     "data": {
      "text/plain": [
       "'hello, world'"
      ]
     },
     "execution_count": 5,
     "metadata": {},
     "output_type": "execute_result"
    }
   ],
   "source": [
    "# Create a python object.\n",
    "object_id = client.put(\"hello, world\")\n",
    "\n",
    "# Get the object.\n",
    "client.get(object_id)"
   ]
  },
  {
   "cell_type": "code",
   "execution_count": 6,
   "id": "951cdfce-81b3-49ad-98f2-5c222cb918b5",
   "metadata": {},
   "outputs": [
    {
     "data": {
      "text/plain": [
       "[1, 2, 3]"
      ]
     },
     "execution_count": 6,
     "metadata": {},
     "output_type": "execute_result"
    }
   ],
   "source": [
    "# You can also get multiple objects at the same time \n",
    "# Create multiple python objects.\n",
    "object_id1 = client.put(1)\n",
    "object_id2 = client.put(2)\n",
    "object_id3 = client.put(3)\n",
    "\n",
    "# Get the objects.\n",
    "client.get([object_id1, object_id2, object_id3])"
   ]
  },
  {
   "cell_type": "code",
   "execution_count": 7,
   "id": "2e2e37f3-5fec-44f8-8a58-0c641b420175",
   "metadata": {},
   "outputs": [],
   "source": [
    "# Allocates a buffer for the object.\n",
    "object_id = plasma.ObjectID(20 * b\"a\")\n",
    "object_size = 1000\n",
    "buffer = memoryview(client.create(object_id, object_size))\n",
    "\n",
    "# Write to the buffer.\n",
    "for i in range(1000):\n",
    "  buffer[i] = i % 128"
   ]
  },
  {
   "cell_type": "code",
   "execution_count": 8,
   "id": "c16ae811-d674-4b8f-9eb5-09496e1363b7",
   "metadata": {},
   "outputs": [],
   "source": [
    "# Seal the object. This makes the object immutable and available to other clients.\n",
    "client.seal(object_id)"
   ]
  },
  {
   "cell_type": "code",
   "execution_count": 10,
   "id": "d2de66f6-18ab-46a8-b1c0-2b14fa81a53e",
   "metadata": {},
   "outputs": [
    {
     "data": {
      "text/plain": [
       "<memory at 0x7fb42bafa1c0>"
      ]
     },
     "execution_count": 10,
     "metadata": {},
     "output_type": "execute_result"
    }
   ],
   "source": [
    "# Create a different client. Note that this second client could be\n",
    "# created in the same or in a separate, concurrent Python session.\n",
    "client2 = plasma.connect(\"/tmp/plasma\")\n",
    "\n",
    "# Get the object in the second client. This blocks until the object has been sealed.\n",
    "object_id2 = plasma.ObjectID(20 * b\"a\")\n",
    "[buffer2] = client2.get_buffers([object_id])\n",
    "buffer"
   ]
  },
  {
   "cell_type": "code",
   "execution_count": 11,
   "id": "b15233e4-9919-44a8-8d40-9377323febbd",
   "metadata": {},
   "outputs": [
    {
     "data": {
      "text/plain": [
       "<pyarrow.lib.Buffer at 0x7fb42bb02ab0>"
      ]
     },
     "execution_count": 11,
     "metadata": {},
     "output_type": "execute_result"
    }
   ],
   "source": [
    "buffer2"
   ]
  },
  {
   "cell_type": "code",
   "execution_count": 12,
   "id": "abddeccd-1591-49ad-b4c8-213fd333ed75",
   "metadata": {},
   "outputs": [
    {
     "data": {
      "text/plain": [
       "1"
      ]
     },
     "execution_count": 12,
     "metadata": {},
     "output_type": "execute_result"
    }
   ],
   "source": [
    "buffer[1]"
   ]
  },
  {
   "cell_type": "code",
   "execution_count": 31,
   "id": "ed82dd6a-2695-403e-82f4-00dc6cdfb9e5",
   "metadata": {},
   "outputs": [
    {
     "data": {
      "text/plain": [
       "1"
      ]
     },
     "execution_count": 31,
     "metadata": {},
     "output_type": "execute_result"
    }
   ],
   "source": [
    "buffer[129]"
   ]
  },
  {
   "cell_type": "code",
   "execution_count": 15,
   "id": "f7ebaf54-0464-4e62-abaf-f2df0de09a0e",
   "metadata": {},
   "outputs": [],
   "source": [
    "view2 = memoryview(buffer2)"
   ]
  },
  {
   "cell_type": "code",
   "execution_count": 16,
   "id": "e00422ee-c3ab-4d8e-85f2-4dd55ac74f26",
   "metadata": {},
   "outputs": [
    {
     "data": {
      "text/plain": [
       "1"
      ]
     },
     "execution_count": 16,
     "metadata": {},
     "output_type": "execute_result"
    }
   ],
   "source": [
    "view2[1]"
   ]
  },
  {
   "cell_type": "code",
   "execution_count": 30,
   "id": "6d9fa52f-3c7c-43b3-ac32-9fbb2e53fa26",
   "metadata": {},
   "outputs": [
    {
     "data": {
      "text/plain": [
       "1"
      ]
     },
     "execution_count": 30,
     "metadata": {},
     "output_type": "execute_result"
    }
   ],
   "source": [
    "view2[129]"
   ]
  },
  {
   "cell_type": "code",
   "execution_count": 33,
   "id": "4780b0e2-7562-49d7-8c61-9f5ab87598d1",
   "metadata": {},
   "outputs": [
    {
     "data": {
      "text/plain": [
       "b'\\x01\\x02\\x03\\x04\\x05\\x06\\x07\\x08\\t'"
      ]
     },
     "execution_count": 33,
     "metadata": {},
     "output_type": "execute_result"
    }
   ],
   "source": [
    "bytes(buffer[1:10])"
   ]
  },
  {
   "cell_type": "code",
   "execution_count": 32,
   "id": "dda3547e-26de-4fda-9c51-f054c89b462b",
   "metadata": {},
   "outputs": [
    {
     "data": {
      "text/plain": [
       "b'\\x01\\x02\\x03\\x04\\x05\\x06\\x07\\x08\\t'"
      ]
     },
     "execution_count": 32,
     "metadata": {},
     "output_type": "execute_result"
    }
   ],
   "source": [
    "bytes(view2[1:10])"
   ]
  },
  {
   "cell_type": "code",
   "execution_count": 34,
   "id": "8920dd10-91a2-4c9d-b393-f33c391c59dc",
   "metadata": {},
   "outputs": [],
   "source": [
    "import pyarrow.plasma as plasma\n",
    "import time\n",
    "\n",
    "client3 = plasma.connect(\"/tmp/plasma\")"
   ]
  },
  {
   "cell_type": "code",
   "execution_count": 38,
   "id": "dabb3958-9acb-4dc3-93c8-644359291dbb",
   "metadata": {},
   "outputs": [
    {
     "data": {
      "text/plain": [
       "{ObjectID(d17e87d4d22f043d71ac2864893686da45d9f913): {'data_size': 576,\n",
       "  'metadata_size': 0,\n",
       "  'ref_count': 0,\n",
       "  'create_time': 1645812740,\n",
       "  'construct_duration': 0,\n",
       "  'state': 'sealed'},\n",
       " ObjectID(a945d7e5349a81cef1d56209bed58989272d9675): {'data_size': 100,\n",
       "  'metadata_size': 0,\n",
       "  'ref_count': 1,\n",
       "  'create_time': 1645812729,\n",
       "  'construct_duration': -1,\n",
       "  'state': 'created'},\n",
       " ObjectID(23c3747c644e3540c1440936e6516e8789bd1961): {'data_size': 576,\n",
       "  'metadata_size': 0,\n",
       "  'ref_count': 0,\n",
       "  'create_time': 1645812729,\n",
       "  'construct_duration': 0,\n",
       "  'state': 'sealed'},\n",
       " ObjectID(f56ab559bdc9c2abe047ff6ed6aba41a54a4b49f): {'data_size': 576,\n",
       "  'metadata_size': 0,\n",
       "  'ref_count': 0,\n",
       "  'create_time': 1645812698,\n",
       "  'construct_duration': 0,\n",
       "  'state': 'sealed'},\n",
       " ObjectID(a7133fac3713a8ee9b68fe327499f014fbf5878b): {'data_size': 576,\n",
       "  'metadata_size': 0,\n",
       "  'ref_count': 0,\n",
       "  'create_time': 1645812882,\n",
       "  'construct_duration': 0,\n",
       "  'state': 'sealed'},\n",
       " ObjectID(eb89c66279561479965fae7013bc1c2ff597a4f2): {'data_size': 576,\n",
       "  'metadata_size': 0,\n",
       "  'ref_count': 0,\n",
       "  'create_time': 1645811821,\n",
       "  'construct_duration': 0,\n",
       "  'state': 'sealed'},\n",
       " ObjectID(346bc9f83adb39bea5cf36a153b9a6b37b91c75a): {'data_size': 576,\n",
       "  'metadata_size': 0,\n",
       "  'ref_count': 0,\n",
       "  'create_time': 1645812880,\n",
       "  'construct_duration': 0,\n",
       "  'state': 'sealed'},\n",
       " ObjectID(39152c53bb37850bdacb8cbe2a636f8898c865bd): {'data_size': 512,\n",
       "  'metadata_size': 0,\n",
       "  'ref_count': 0,\n",
       "  'create_time': 1645811922,\n",
       "  'construct_duration': 0,\n",
       "  'state': 'sealed'},\n",
       " ObjectID(7a5c64404cc24ef36402c6c7c9e10e6f1154dc96): {'data_size': 512,\n",
       "  'metadata_size': 0,\n",
       "  'ref_count': 0,\n",
       "  'create_time': 1645811922,\n",
       "  'construct_duration': 0,\n",
       "  'state': 'sealed'},\n",
       " ObjectID(99ef536fa0918933c65458d1f993ad35d6c8d862): {'data_size': 576,\n",
       "  'metadata_size': 0,\n",
       "  'ref_count': 0,\n",
       "  'create_time': 1645812738,\n",
       "  'construct_duration': 0,\n",
       "  'state': 'sealed'},\n",
       " ObjectID(6161616161616161616161616161616161616161): {'data_size': 1000,\n",
       "  'metadata_size': 0,\n",
       "  'ref_count': 2,\n",
       "  'create_time': 1645812092,\n",
       "  'construct_duration': 148,\n",
       "  'state': 'sealed'},\n",
       " ObjectID(e06c4abb5a22c965647240560198cb3f5fa869f2): {'data_size': 100,\n",
       "  'metadata_size': 0,\n",
       "  'ref_count': 1,\n",
       "  'create_time': 1645812698,\n",
       "  'construct_duration': -1,\n",
       "  'state': 'created'},\n",
       " ObjectID(90bd589e21c8cae25f8c41ef06648613dcc70b1f): {'data_size': 512,\n",
       "  'metadata_size': 0,\n",
       "  'ref_count': 0,\n",
       "  'create_time': 1645811922,\n",
       "  'construct_duration': 0,\n",
       "  'state': 'sealed'},\n",
       " ObjectID(c5a157a80b9a0a8e10d3a34b35d2ce66d8cb68cc): {'data_size': 100,\n",
       "  'metadata_size': 0,\n",
       "  'ref_count': 1,\n",
       "  'create_time': 1645812740,\n",
       "  'construct_duration': -1,\n",
       "  'state': 'created'},\n",
       " ObjectID(3a00c4b0b673344e299cc29f0704b12bd9f03f24): {'data_size': 576,\n",
       "  'metadata_size': 0,\n",
       "  'ref_count': 0,\n",
       "  'create_time': 1645812696,\n",
       "  'construct_duration': 0,\n",
       "  'state': 'sealed'},\n",
       " ObjectID(3cac95cce840f8a77a47babd83fbbf5195503c14): {'data_size': 576,\n",
       "  'metadata_size': 0,\n",
       "  'ref_count': 0,\n",
       "  'create_time': 1645812727,\n",
       "  'construct_duration': 0,\n",
       "  'state': 'sealed'},\n",
       " ObjectID(314e9f37ec37b4286a690ff8980a1ab4642c20e7): {'data_size': 100,\n",
       "  'metadata_size': 0,\n",
       "  'ref_count': 1,\n",
       "  'create_time': 1645812882,\n",
       "  'construct_duration': -1,\n",
       "  'state': 'created'}}"
      ]
     },
     "execution_count": 38,
     "metadata": {},
     "output_type": "execute_result"
    }
   ],
   "source": [
    "client.put(\"hello, world\")\n",
    "# Sleep a little so we get different creation times\n",
    "time.sleep(2)\n",
    "client.put(\"another object\")\n",
    "# Create an object that is not sealed yet\n",
    "object_id = plasma.ObjectID.from_random()\n",
    "client.create(object_id, 100)\n",
    "client.list()\n"
   ]
  },
  {
   "cell_type": "code",
   "execution_count": 49,
   "id": "b1c26d74-d7ed-4b48-8c2f-c291dde5c43f",
   "metadata": {},
   "outputs": [
    {
     "data": {
      "text/plain": [
       "array([ 0.2635016 , -0.39320425,  0.74859679, -1.31778029])"
      ]
     },
     "execution_count": 49,
     "metadata": {},
     "output_type": "execute_result"
    }
   ],
   "source": [
    "import numpy as np\n",
    "import pyarrow as pa\n",
    "\n",
    "# Create a pyarrow.Tensor object from a numpy random 2-dimensional array\n",
    "data = np.random.randn(10, 4)\n",
    "data[4]"
   ]
  },
  {
   "cell_type": "code",
   "execution_count": 46,
   "id": "ad2c4c30-83b8-4b76-aed0-e49c34b95fcd",
   "metadata": {},
   "outputs": [
    {
     "data": {
      "text/plain": [
       "<pyarrow.Tensor>\n",
       "type: double\n",
       "shape: (10, 4)\n",
       "strides: (32, 8)"
      ]
     },
     "execution_count": 46,
     "metadata": {},
     "output_type": "execute_result"
    }
   ],
   "source": [
    "tensor = pa.Tensor.from_numpy(data)\n",
    "tensor"
   ]
  },
  {
   "cell_type": "code",
   "execution_count": 50,
   "id": "07aceee5-e113-4179-b514-9c9dc80139ac",
   "metadata": {},
   "outputs": [],
   "source": [
    "# Create the object in Plasma\n",
    "object_id = plasma.ObjectID(np.random.bytes(20))\n",
    "data_size = pa.ipc.get_tensor_size(tensor)\n",
    "buf = client.create(object_id, data_size)"
   ]
  },
  {
   "cell_type": "code",
   "execution_count": 51,
   "id": "52733ad2-8f4d-4a8b-a0cb-9b9c1f657288",
   "metadata": {},
   "outputs": [
    {
     "data": {
      "text/plain": [
       "576"
      ]
     },
     "execution_count": 51,
     "metadata": {},
     "output_type": "execute_result"
    }
   ],
   "source": [
    "# Write the tensor into the Plasma-allocated buffer\n",
    "stream = pa.FixedSizeBufferWriter(buf)\n",
    "pa.ipc.write_tensor(tensor, stream)  # Writes tensor's 552 bytes to Plasma stream"
   ]
  },
  {
   "cell_type": "code",
   "execution_count": 52,
   "id": "72c1bc2b-ae2f-403a-ae47-79cb359820be",
   "metadata": {},
   "outputs": [],
   "source": [
    "# Seal the Plasma object\n",
    "client.seal(object_id)"
   ]
  },
  {
   "cell_type": "code",
   "execution_count": 58,
   "id": "cd063558-a32b-48a6-8be0-3544983962f3",
   "metadata": {},
   "outputs": [
    {
     "data": {
      "text/plain": [
       "<pyarrow.lib.Buffer at 0x7fb42bb0a5f0>"
      ]
     },
     "execution_count": 58,
     "metadata": {},
     "output_type": "execute_result"
    }
   ],
   "source": [
    "# Get the arrow object by ObjectID.\n",
    "[buf2] = client.get_buffers([object_id])\n",
    "buf2"
   ]
  },
  {
   "cell_type": "code",
   "execution_count": 57,
   "id": "572cd20e-0cb4-4f7c-9386-f14a3ef8641e",
   "metadata": {},
   "outputs": [
    {
     "data": {
      "text/plain": [
       "<pyarrow.Tensor>\n",
       "type: double\n",
       "shape: (10, 4)\n",
       "strides: (32, 8)"
      ]
     },
     "execution_count": 57,
     "metadata": {},
     "output_type": "execute_result"
    }
   ],
   "source": [
    "# Reconstruct the Arrow tensor object.\n",
    "reader = pa.BufferReader(buf2)\n",
    "tensor2 = pa.ipc.read_tensor(reader)\n",
    "tensor2"
   ]
  },
  {
   "cell_type": "code",
   "execution_count": 56,
   "id": "54b2c248-a5a6-41a8-85cc-2ff0abe91601",
   "metadata": {},
   "outputs": [
    {
     "data": {
      "text/plain": [
       "array([[-1.55267097,  0.45403492,  0.61712591, -0.15753051],\n",
       "       [-2.44991476,  0.97311571, -0.24487969, -0.89297473],\n",
       "       [ 1.2597042 ,  1.42905181,  0.3302586 ,  0.02979372],\n",
       "       [-0.01713524, -1.29416298,  0.92401369, -0.29975209],\n",
       "       [ 0.61527264,  1.444473  ,  0.03533133, -0.77023468],\n",
       "       [ 1.05767962,  1.40729435,  1.67217589,  0.25303491],\n",
       "       [ 0.81223315,  0.24885553,  0.60027239, -0.5533307 ],\n",
       "       [ 1.33607181, -0.05753372,  1.33274268, -0.91863381],\n",
       "       [-0.1925225 , -1.49456125, -0.12463497, -0.32851444],\n",
       "       [ 0.34957346, -0.57476307,  1.59733538,  0.64178924]])"
      ]
     },
     "execution_count": 56,
     "metadata": {},
     "output_type": "execute_result"
    }
   ],
   "source": [
    "# Convert back to numpy\n",
    "array = tensor2.to_numpy()\n",
    "array"
   ]
  },
  {
   "cell_type": "code",
   "execution_count": 61,
   "id": "4b5ad822-7215-4fe1-a1df-32f541138fc6",
   "metadata": {},
   "outputs": [
    {
     "data": {
      "text/html": [
       "<div>\n",
       "<style scoped>\n",
       "    .dataframe tbody tr th:only-of-type {\n",
       "        vertical-align: middle;\n",
       "    }\n",
       "\n",
       "    .dataframe tbody tr th {\n",
       "        vertical-align: top;\n",
       "    }\n",
       "\n",
       "    .dataframe thead th {\n",
       "        text-align: right;\n",
       "    }\n",
       "</style>\n",
       "<table border=\"1\" class=\"dataframe\">\n",
       "  <thead>\n",
       "    <tr style=\"text-align: right;\">\n",
       "      <th></th>\n",
       "      <th>one</th>\n",
       "      <th>two</th>\n",
       "    </tr>\n",
       "  </thead>\n",
       "  <tbody>\n",
       "    <tr>\n",
       "      <th>a</th>\n",
       "      <td>1.0</td>\n",
       "      <td>1.0</td>\n",
       "    </tr>\n",
       "    <tr>\n",
       "      <th>b</th>\n",
       "      <td>2.0</td>\n",
       "      <td>2.0</td>\n",
       "    </tr>\n",
       "    <tr>\n",
       "      <th>c</th>\n",
       "      <td>3.0</td>\n",
       "      <td>3.0</td>\n",
       "    </tr>\n",
       "    <tr>\n",
       "      <th>d</th>\n",
       "      <td>NaN</td>\n",
       "      <td>4.0</td>\n",
       "    </tr>\n",
       "  </tbody>\n",
       "</table>\n",
       "</div>"
      ],
      "text/plain": [
       "   one  two\n",
       "a  1.0  1.0\n",
       "b  2.0  2.0\n",
       "c  3.0  3.0\n",
       "d  NaN  4.0"
      ]
     },
     "execution_count": 61,
     "metadata": {},
     "output_type": "execute_result"
    }
   ],
   "source": [
    "# Storing pandas in plasma\n",
    "import pandas as pd\n",
    "\n",
    "# Create a Pandas DataFrame\n",
    "d = {'one' : pd.Series([1., 2., 3.], index=['a', 'b', 'c']),\n",
    "     'two' : pd.Series([1., 2., 3., 4.], index=['a', 'b', 'c', 'd'])}\n",
    "df = pd.DataFrame(d)\n",
    "df"
   ]
  },
  {
   "cell_type": "code",
   "execution_count": null,
   "id": "bef73448-6494-4ea6-9bae-d9cbfb0d3da1",
   "metadata": {},
   "outputs": [],
   "source": []
  },
  {
   "cell_type": "code",
   "execution_count": 62,
   "id": "5c5c784f-b2a0-4845-9416-52ca2698101e",
   "metadata": {},
   "outputs": [
    {
     "data": {
      "text/plain": [
       "pyarrow.RecordBatch\n",
       "one: double\n",
       "two: double\n",
       "__index_level_0__: string"
      ]
     },
     "execution_count": 62,
     "metadata": {},
     "output_type": "execute_result"
    }
   ],
   "source": [
    "# Convert the Pandas DataFrame into a PyArrow RecordBatch\n",
    "record_batch = pa.RecordBatch.from_pandas(df)\n",
    "record_batch"
   ]
  },
  {
   "cell_type": "code",
   "execution_count": 64,
   "id": "92fa838f-43b9-47cf-b570-d4e25340a9c6",
   "metadata": {},
   "outputs": [
    {
     "data": {
      "text/plain": [
       "<pyarrow._plasma.PlasmaBuffer at 0x7fb3ef444fa0>"
      ]
     },
     "execution_count": 64,
     "metadata": {},
     "output_type": "execute_result"
    }
   ],
   "source": [
    "# Create the Plasma object from the PyArrow RecordBatch. Most of the work here\n",
    "# is done to determine the size of buffer to request from the object store.\n",
    "object_id = plasma.ObjectID(np.random.bytes(20))\n",
    "mock_sink = pa.MockOutputStream()\n",
    "with pa.RecordBatchStreamWriter(mock_sink, record_batch.schema) as stream_writer:\n",
    "    stream_writer.write_batch(record_batch)\n",
    "data_size = mock_sink.size()\n",
    "buf = client.create(object_id, data_size)\n",
    "buf"
   ]
  },
  {
   "cell_type": "code",
   "execution_count": 65,
   "id": "2f3e64d2-f135-40ae-affa-d943a89cab39",
   "metadata": {},
   "outputs": [],
   "source": [
    "# Write the PyArrow RecordBatch to Plasma\n",
    "stream = pa.FixedSizeBufferWriter(buf)\n",
    "with pa.RecordBatchStreamWriter(stream, record_batch.schema) as stream_writer:\n",
    "    stream_writer.write_batch(record_batch)"
   ]
  },
  {
   "cell_type": "code",
   "execution_count": 66,
   "id": "04c7bccb-4e50-4405-be4f-cb3cc99033ad",
   "metadata": {},
   "outputs": [],
   "source": [
    "# Seal the Plasma object\n",
    "client.seal(object_id)"
   ]
  },
  {
   "cell_type": "code",
   "execution_count": 69,
   "id": "e4614d5c-2dd9-4081-b9f5-ef0caecf8c47",
   "metadata": {},
   "outputs": [
    {
     "data": {
      "text/plain": [
       "<pyarrow.lib.BufferReader at 0x7fb3ef39c2c0>"
      ]
     },
     "execution_count": 69,
     "metadata": {},
     "output_type": "execute_result"
    }
   ],
   "source": [
    "# Fetch the Plasma object\n",
    "[data] = client.get_buffers([object_id])  # Get PlasmaBuffer from ObjectID\n",
    "buffer = pa.BufferReader(data)\n",
    "buffer"
   ]
  },
  {
   "cell_type": "code",
   "execution_count": 70,
   "id": "cca92f9e-223d-4f6c-a652-0c065940f70e",
   "metadata": {},
   "outputs": [
    {
     "data": {
      "text/plain": [
       "pyarrow.RecordBatch\n",
       "one: double\n",
       "two: double\n",
       "__index_level_0__: string"
      ]
     },
     "execution_count": 70,
     "metadata": {},
     "output_type": "execute_result"
    }
   ],
   "source": [
    "# Convert object back into an Arrow RecordBatch\n",
    "reader = pa.RecordBatchStreamReader(buffer)\n",
    "record_batch = reader.read_next_batch()\n",
    "record_batch"
   ]
  },
  {
   "cell_type": "code",
   "execution_count": 120,
   "id": "4cd8a01c-d217-4883-84fe-8972dd3ad9ed",
   "metadata": {},
   "outputs": [
    {
     "data": {
      "text/html": [
       "<div>\n",
       "<style scoped>\n",
       "    .dataframe tbody tr th:only-of-type {\n",
       "        vertical-align: middle;\n",
       "    }\n",
       "\n",
       "    .dataframe tbody tr th {\n",
       "        vertical-align: top;\n",
       "    }\n",
       "\n",
       "    .dataframe thead th {\n",
       "        text-align: right;\n",
       "    }\n",
       "</style>\n",
       "<table border=\"1\" class=\"dataframe\">\n",
       "  <thead>\n",
       "    <tr style=\"text-align: right;\">\n",
       "      <th></th>\n",
       "      <th>one</th>\n",
       "      <th>two</th>\n",
       "    </tr>\n",
       "  </thead>\n",
       "  <tbody>\n",
       "    <tr>\n",
       "      <th>a</th>\n",
       "      <td>1.0</td>\n",
       "      <td>1.0</td>\n",
       "    </tr>\n",
       "    <tr>\n",
       "      <th>b</th>\n",
       "      <td>2.0</td>\n",
       "      <td>2.0</td>\n",
       "    </tr>\n",
       "    <tr>\n",
       "      <th>c</th>\n",
       "      <td>3.0</td>\n",
       "      <td>3.0</td>\n",
       "    </tr>\n",
       "    <tr>\n",
       "      <th>d</th>\n",
       "      <td>NaN</td>\n",
       "      <td>4.0</td>\n",
       "    </tr>\n",
       "  </tbody>\n",
       "</table>\n",
       "</div>"
      ],
      "text/plain": [
       "   one  two\n",
       "a  1.0  1.0\n",
       "b  2.0  2.0\n",
       "c  3.0  3.0\n",
       "d  NaN  4.0"
      ]
     },
     "execution_count": 120,
     "metadata": {},
     "output_type": "execute_result"
    }
   ],
   "source": [
    "# Convert back into Pandas\n",
    "result = record_batch.to_pandas()\n",
    "result"
   ]
  },
  {
   "cell_type": "code",
   "execution_count": 129,
   "id": "f8d77e52-1ea2-4441-a3a6-13ba053181ba",
   "metadata": {},
   "outputs": [
    {
     "data": {
      "text/plain": [
       "<pandas.io.parsers.readers.TextFileReader at 0x7fb3deabec70>"
      ]
     },
     "execution_count": 129,
     "metadata": {},
     "output_type": "execute_result"
    }
   ],
   "source": [
    "# Load datasets as a chunk\n",
    "data = pd.read_csv('train_dataset.csv', chunksize=100, dtype={'Age': 'int32'})\n",
    "data"
   ]
  },
  {
   "cell_type": "code",
   "execution_count": null,
   "id": "1d7d2047-94d5-4bf0-a834-cf66ef7dcafe",
   "metadata": {},
   "outputs": [],
   "source": []
  },
  {
   "cell_type": "code",
   "execution_count": 131,
   "id": "71175d23-e904-42fb-9f13-d7d6a54485e6",
   "metadata": {},
   "outputs": [
    {
     "name": "stdout",
     "output_type": "stream",
     "text": [
      "(100, 8)\n",
      "(100, 8)\n",
      "(100, 8)\n",
      "(100, 8)\n",
      "(100, 8)\n",
      "(100, 8)\n",
      "(9, 8)\n"
     ]
    }
   ],
   "source": [
    "full_data = pd.DataFrame()\n",
    "for x in data:\n",
    "    full_data = pd.concat([full_data, x])\n",
    "    print(x.shape)"
   ]
  },
  {
   "cell_type": "code",
   "execution_count": 133,
   "id": "1c4caa36-fcd8-45ff-bd05-5e61ed9351d8",
   "metadata": {},
   "outputs": [
    {
     "data": {
      "text/html": [
       "<div>\n",
       "<style scoped>\n",
       "    .dataframe tbody tr th:only-of-type {\n",
       "        vertical-align: middle;\n",
       "    }\n",
       "\n",
       "    .dataframe tbody tr th {\n",
       "        vertical-align: top;\n",
       "    }\n",
       "\n",
       "    .dataframe thead th {\n",
       "        text-align: right;\n",
       "    }\n",
       "</style>\n",
       "<table border=\"1\" class=\"dataframe\">\n",
       "  <thead>\n",
       "    <tr style=\"text-align: right;\">\n",
       "      <th></th>\n",
       "      <th>Gender</th>\n",
       "      <th>Age</th>\n",
       "      <th>openness</th>\n",
       "      <th>neuroticism</th>\n",
       "      <th>conscientiousness</th>\n",
       "      <th>agreeableness</th>\n",
       "      <th>extraversion</th>\n",
       "      <th>Personality (Class label)</th>\n",
       "    </tr>\n",
       "  </thead>\n",
       "  <tbody>\n",
       "    <tr>\n",
       "      <th>100</th>\n",
       "      <td>Male</td>\n",
       "      <td>18</td>\n",
       "      <td>5</td>\n",
       "      <td>3</td>\n",
       "      <td>3</td>\n",
       "      <td>6</td>\n",
       "      <td>2</td>\n",
       "      <td>responsible</td>\n",
       "    </tr>\n",
       "    <tr>\n",
       "      <th>101</th>\n",
       "      <td>Female</td>\n",
       "      <td>19</td>\n",
       "      <td>6</td>\n",
       "      <td>5</td>\n",
       "      <td>2</td>\n",
       "      <td>3</td>\n",
       "      <td>3</td>\n",
       "      <td>lively</td>\n",
       "    </tr>\n",
       "    <tr>\n",
       "      <th>102</th>\n",
       "      <td>Male</td>\n",
       "      <td>27</td>\n",
       "      <td>7</td>\n",
       "      <td>5</td>\n",
       "      <td>6</td>\n",
       "      <td>7</td>\n",
       "      <td>3</td>\n",
       "      <td>dependable</td>\n",
       "    </tr>\n",
       "    <tr>\n",
       "      <th>103</th>\n",
       "      <td>Male</td>\n",
       "      <td>17</td>\n",
       "      <td>6</td>\n",
       "      <td>5</td>\n",
       "      <td>4</td>\n",
       "      <td>7</td>\n",
       "      <td>5</td>\n",
       "      <td>dependable</td>\n",
       "    </tr>\n",
       "    <tr>\n",
       "      <th>104</th>\n",
       "      <td>Female</td>\n",
       "      <td>21</td>\n",
       "      <td>4</td>\n",
       "      <td>6</td>\n",
       "      <td>3</td>\n",
       "      <td>5</td>\n",
       "      <td>2</td>\n",
       "      <td>lively</td>\n",
       "    </tr>\n",
       "    <tr>\n",
       "      <th>...</th>\n",
       "      <td>...</td>\n",
       "      <td>...</td>\n",
       "      <td>...</td>\n",
       "      <td>...</td>\n",
       "      <td>...</td>\n",
       "      <td>...</td>\n",
       "      <td>...</td>\n",
       "      <td>...</td>\n",
       "    </tr>\n",
       "    <tr>\n",
       "      <th>704</th>\n",
       "      <td>Female</td>\n",
       "      <td>20</td>\n",
       "      <td>4</td>\n",
       "      <td>5</td>\n",
       "      <td>6</td>\n",
       "      <td>6</td>\n",
       "      <td>1</td>\n",
       "      <td>responsible</td>\n",
       "    </tr>\n",
       "    <tr>\n",
       "      <th>705</th>\n",
       "      <td>Male</td>\n",
       "      <td>18</td>\n",
       "      <td>6</td>\n",
       "      <td>3</td>\n",
       "      <td>1</td>\n",
       "      <td>5</td>\n",
       "      <td>5</td>\n",
       "      <td>dependable</td>\n",
       "    </tr>\n",
       "    <tr>\n",
       "      <th>706</th>\n",
       "      <td>Male</td>\n",
       "      <td>22</td>\n",
       "      <td>5</td>\n",
       "      <td>2</td>\n",
       "      <td>3</td>\n",
       "      <td>6</td>\n",
       "      <td>1</td>\n",
       "      <td>serious</td>\n",
       "    </tr>\n",
       "    <tr>\n",
       "      <th>707</th>\n",
       "      <td>Male</td>\n",
       "      <td>19</td>\n",
       "      <td>5</td>\n",
       "      <td>6</td>\n",
       "      <td>5</td>\n",
       "      <td>7</td>\n",
       "      <td>5</td>\n",
       "      <td>extraverted</td>\n",
       "    </tr>\n",
       "    <tr>\n",
       "      <th>708</th>\n",
       "      <td>Female</td>\n",
       "      <td>18</td>\n",
       "      <td>5</td>\n",
       "      <td>5</td>\n",
       "      <td>7</td>\n",
       "      <td>6</td>\n",
       "      <td>5</td>\n",
       "      <td>extraverted</td>\n",
       "    </tr>\n",
       "  </tbody>\n",
       "</table>\n",
       "<p>609 rows × 8 columns</p>\n",
       "</div>"
      ],
      "text/plain": [
       "     Gender  Age  openness  neuroticism  conscientiousness  agreeableness  \\\n",
       "100    Male   18         5            3                  3              6   \n",
       "101  Female   19         6            5                  2              3   \n",
       "102    Male   27         7            5                  6              7   \n",
       "103    Male   17         6            5                  4              7   \n",
       "104  Female   21         4            6                  3              5   \n",
       "..      ...  ...       ...          ...                ...            ...   \n",
       "704  Female   20         4            5                  6              6   \n",
       "705    Male   18         6            3                  1              5   \n",
       "706    Male   22         5            2                  3              6   \n",
       "707    Male   19         5            6                  5              7   \n",
       "708  Female   18         5            5                  7              6   \n",
       "\n",
       "     extraversion Personality (Class label)  \n",
       "100             2               responsible  \n",
       "101             3                    lively  \n",
       "102             3                dependable  \n",
       "103             5                dependable  \n",
       "104             2                    lively  \n",
       "..            ...                       ...  \n",
       "704             1               responsible  \n",
       "705             5                dependable  \n",
       "706             1                   serious  \n",
       "707             5               extraverted  \n",
       "708             5               extraverted  \n",
       "\n",
       "[609 rows x 8 columns]"
      ]
     },
     "execution_count": 133,
     "metadata": {},
     "output_type": "execute_result"
    }
   ],
   "source": [
    "full_data"
   ]
  },
  {
   "cell_type": "code",
   "execution_count": 106,
   "id": "60bdba1a-fcda-4e8b-b90c-45406eb231a6",
   "metadata": {},
   "outputs": [
    {
     "data": {
      "text/html": [
       "<div>\n",
       "<style scoped>\n",
       "    .dataframe tbody tr th:only-of-type {\n",
       "        vertical-align: middle;\n",
       "    }\n",
       "\n",
       "    .dataframe tbody tr th {\n",
       "        vertical-align: top;\n",
       "    }\n",
       "\n",
       "    .dataframe thead th {\n",
       "        text-align: right;\n",
       "    }\n",
       "</style>\n",
       "<table border=\"1\" class=\"dataframe\">\n",
       "  <thead>\n",
       "    <tr style=\"text-align: right;\">\n",
       "      <th></th>\n",
       "      <th>Gender</th>\n",
       "      <th>Age</th>\n",
       "      <th>openness</th>\n",
       "      <th>neuroticism</th>\n",
       "      <th>conscientiousness</th>\n",
       "      <th>agreeableness</th>\n",
       "      <th>extraversion</th>\n",
       "      <th>Personality (Class label)</th>\n",
       "    </tr>\n",
       "  </thead>\n",
       "  <tbody>\n",
       "    <tr>\n",
       "      <th>0</th>\n",
       "      <td>Male</td>\n",
       "      <td>17</td>\n",
       "      <td>7</td>\n",
       "      <td>4</td>\n",
       "      <td>7</td>\n",
       "      <td>3</td>\n",
       "      <td>2</td>\n",
       "      <td>extraverted</td>\n",
       "    </tr>\n",
       "    <tr>\n",
       "      <th>1</th>\n",
       "      <td>Male</td>\n",
       "      <td>19</td>\n",
       "      <td>4</td>\n",
       "      <td>5</td>\n",
       "      <td>4</td>\n",
       "      <td>6</td>\n",
       "      <td>6</td>\n",
       "      <td>serious</td>\n",
       "    </tr>\n",
       "    <tr>\n",
       "      <th>2</th>\n",
       "      <td>Female</td>\n",
       "      <td>18</td>\n",
       "      <td>7</td>\n",
       "      <td>6</td>\n",
       "      <td>4</td>\n",
       "      <td>5</td>\n",
       "      <td>5</td>\n",
       "      <td>dependable</td>\n",
       "    </tr>\n",
       "    <tr>\n",
       "      <th>3</th>\n",
       "      <td>Female</td>\n",
       "      <td>22</td>\n",
       "      <td>5</td>\n",
       "      <td>6</td>\n",
       "      <td>7</td>\n",
       "      <td>4</td>\n",
       "      <td>3</td>\n",
       "      <td>extraverted</td>\n",
       "    </tr>\n",
       "    <tr>\n",
       "      <th>4</th>\n",
       "      <td>Female</td>\n",
       "      <td>19</td>\n",
       "      <td>7</td>\n",
       "      <td>4</td>\n",
       "      <td>6</td>\n",
       "      <td>5</td>\n",
       "      <td>4</td>\n",
       "      <td>lively</td>\n",
       "    </tr>\n",
       "    <tr>\n",
       "      <th>...</th>\n",
       "      <td>...</td>\n",
       "      <td>...</td>\n",
       "      <td>...</td>\n",
       "      <td>...</td>\n",
       "      <td>...</td>\n",
       "      <td>...</td>\n",
       "      <td>...</td>\n",
       "      <td>...</td>\n",
       "    </tr>\n",
       "    <tr>\n",
       "      <th>95</th>\n",
       "      <td>Male</td>\n",
       "      <td>18</td>\n",
       "      <td>3</td>\n",
       "      <td>6</td>\n",
       "      <td>6</td>\n",
       "      <td>1</td>\n",
       "      <td>3</td>\n",
       "      <td>responsible</td>\n",
       "    </tr>\n",
       "    <tr>\n",
       "      <th>96</th>\n",
       "      <td>Female</td>\n",
       "      <td>18</td>\n",
       "      <td>4</td>\n",
       "      <td>4</td>\n",
       "      <td>5</td>\n",
       "      <td>7</td>\n",
       "      <td>3</td>\n",
       "      <td>dependable</td>\n",
       "    </tr>\n",
       "    <tr>\n",
       "      <th>97</th>\n",
       "      <td>Female</td>\n",
       "      <td>19</td>\n",
       "      <td>5</td>\n",
       "      <td>5</td>\n",
       "      <td>4</td>\n",
       "      <td>6</td>\n",
       "      <td>3</td>\n",
       "      <td>lively</td>\n",
       "    </tr>\n",
       "    <tr>\n",
       "      <th>98</th>\n",
       "      <td>Male</td>\n",
       "      <td>19</td>\n",
       "      <td>2</td>\n",
       "      <td>5</td>\n",
       "      <td>3</td>\n",
       "      <td>6</td>\n",
       "      <td>4</td>\n",
       "      <td>serious</td>\n",
       "    </tr>\n",
       "    <tr>\n",
       "      <th>99</th>\n",
       "      <td>Female</td>\n",
       "      <td>19</td>\n",
       "      <td>5</td>\n",
       "      <td>5</td>\n",
       "      <td>2</td>\n",
       "      <td>2</td>\n",
       "      <td>1</td>\n",
       "      <td>responsible</td>\n",
       "    </tr>\n",
       "  </tbody>\n",
       "</table>\n",
       "<p>100 rows × 8 columns</p>\n",
       "</div>"
      ],
      "text/plain": [
       "    Gender  Age  openness  neuroticism  conscientiousness  agreeableness  \\\n",
       "0     Male   17         7            4                  7              3   \n",
       "1     Male   19         4            5                  4              6   \n",
       "2   Female   18         7            6                  4              5   \n",
       "3   Female   22         5            6                  7              4   \n",
       "4   Female   19         7            4                  6              5   \n",
       "..     ...  ...       ...          ...                ...            ...   \n",
       "95    Male   18         3            6                  6              1   \n",
       "96  Female   18         4            4                  5              7   \n",
       "97  Female   19         5            5                  4              6   \n",
       "98    Male   19         2            5                  3              6   \n",
       "99  Female   19         5            5                  2              2   \n",
       "\n",
       "    extraversion Personality (Class label)  \n",
       "0              2               extraverted  \n",
       "1              6                   serious  \n",
       "2              5                dependable  \n",
       "3              3               extraverted  \n",
       "4              4                    lively  \n",
       "..           ...                       ...  \n",
       "95             3               responsible  \n",
       "96             3                dependable  \n",
       "97             3                    lively  \n",
       "98             4                   serious  \n",
       "99             1               responsible  \n",
       "\n",
       "[100 rows x 8 columns]"
      ]
     },
     "execution_count": 106,
     "metadata": {},
     "output_type": "execute_result"
    }
   ],
   "source": [
    "reader = pd.read_csv('train_dataset.csv', iterator=True)\n",
    "data2 = reader.get_chunk(100)\n",
    "data2"
   ]
  },
  {
   "cell_type": "code",
   "execution_count": 134,
   "id": "482bc216-abe8-4432-ada9-34855ab147a6",
   "metadata": {},
   "outputs": [],
   "source": [
    "def generate_chunk(reader, chunk_size):\n",
    "    while reader:\n",
    "        yield reader.get_chunk(chunk_size)"
   ]
  },
  {
   "cell_type": "code",
   "execution_count": 137,
   "id": "d9ba1c7c-0ea8-433b-8331-884abe7ac835",
   "metadata": {},
   "outputs": [
    {
     "data": {
      "text/plain": [
       "<generator object generate_chunk at 0x7fb3de833890>"
      ]
     },
     "execution_count": 137,
     "metadata": {},
     "output_type": "execute_result"
    }
   ],
   "source": [
    "dataset = generate_chunk(reader, 100)\n",
    "dataset"
   ]
  },
  {
   "cell_type": "code",
   "execution_count": 139,
   "id": "8e218837-b928-4944-936f-b3c8487f9dec",
   "metadata": {},
   "outputs": [
    {
     "data": {
      "text/html": [
       "<div>\n",
       "<style scoped>\n",
       "    .dataframe tbody tr th:only-of-type {\n",
       "        vertical-align: middle;\n",
       "    }\n",
       "\n",
       "    .dataframe tbody tr th {\n",
       "        vertical-align: top;\n",
       "    }\n",
       "\n",
       "    .dataframe thead th {\n",
       "        text-align: right;\n",
       "    }\n",
       "</style>\n",
       "<table border=\"1\" class=\"dataframe\">\n",
       "  <thead>\n",
       "    <tr style=\"text-align: right;\">\n",
       "      <th></th>\n",
       "      <th>Gender</th>\n",
       "      <th>Age</th>\n",
       "      <th>openness</th>\n",
       "      <th>neuroticism</th>\n",
       "      <th>conscientiousness</th>\n",
       "      <th>agreeableness</th>\n",
       "      <th>extraversion</th>\n",
       "      <th>Personality (Class label)</th>\n",
       "    </tr>\n",
       "  </thead>\n",
       "  <tbody>\n",
       "    <tr>\n",
       "      <th>100</th>\n",
       "      <td>Male</td>\n",
       "      <td>18</td>\n",
       "      <td>5</td>\n",
       "      <td>3</td>\n",
       "      <td>3</td>\n",
       "      <td>6</td>\n",
       "      <td>2</td>\n",
       "      <td>responsible</td>\n",
       "    </tr>\n",
       "    <tr>\n",
       "      <th>101</th>\n",
       "      <td>Female</td>\n",
       "      <td>19</td>\n",
       "      <td>6</td>\n",
       "      <td>5</td>\n",
       "      <td>2</td>\n",
       "      <td>3</td>\n",
       "      <td>3</td>\n",
       "      <td>lively</td>\n",
       "    </tr>\n",
       "    <tr>\n",
       "      <th>102</th>\n",
       "      <td>Male</td>\n",
       "      <td>27</td>\n",
       "      <td>7</td>\n",
       "      <td>5</td>\n",
       "      <td>6</td>\n",
       "      <td>7</td>\n",
       "      <td>3</td>\n",
       "      <td>dependable</td>\n",
       "    </tr>\n",
       "    <tr>\n",
       "      <th>103</th>\n",
       "      <td>Male</td>\n",
       "      <td>17</td>\n",
       "      <td>6</td>\n",
       "      <td>5</td>\n",
       "      <td>4</td>\n",
       "      <td>7</td>\n",
       "      <td>5</td>\n",
       "      <td>dependable</td>\n",
       "    </tr>\n",
       "    <tr>\n",
       "      <th>104</th>\n",
       "      <td>Female</td>\n",
       "      <td>21</td>\n",
       "      <td>4</td>\n",
       "      <td>6</td>\n",
       "      <td>3</td>\n",
       "      <td>5</td>\n",
       "      <td>2</td>\n",
       "      <td>lively</td>\n",
       "    </tr>\n",
       "    <tr>\n",
       "      <th>...</th>\n",
       "      <td>...</td>\n",
       "      <td>...</td>\n",
       "      <td>...</td>\n",
       "      <td>...</td>\n",
       "      <td>...</td>\n",
       "      <td>...</td>\n",
       "      <td>...</td>\n",
       "      <td>...</td>\n",
       "    </tr>\n",
       "    <tr>\n",
       "      <th>195</th>\n",
       "      <td>Male</td>\n",
       "      <td>19</td>\n",
       "      <td>4</td>\n",
       "      <td>5</td>\n",
       "      <td>5</td>\n",
       "      <td>7</td>\n",
       "      <td>5</td>\n",
       "      <td>extraverted</td>\n",
       "    </tr>\n",
       "    <tr>\n",
       "      <th>196</th>\n",
       "      <td>Female</td>\n",
       "      <td>18</td>\n",
       "      <td>5</td>\n",
       "      <td>3</td>\n",
       "      <td>1</td>\n",
       "      <td>5</td>\n",
       "      <td>5</td>\n",
       "      <td>extraverted</td>\n",
       "    </tr>\n",
       "    <tr>\n",
       "      <th>197</th>\n",
       "      <td>Female</td>\n",
       "      <td>18</td>\n",
       "      <td>2</td>\n",
       "      <td>7</td>\n",
       "      <td>1</td>\n",
       "      <td>4</td>\n",
       "      <td>4</td>\n",
       "      <td>responsible</td>\n",
       "    </tr>\n",
       "    <tr>\n",
       "      <th>198</th>\n",
       "      <td>Male</td>\n",
       "      <td>20</td>\n",
       "      <td>6</td>\n",
       "      <td>6</td>\n",
       "      <td>1</td>\n",
       "      <td>2</td>\n",
       "      <td>2</td>\n",
       "      <td>lively</td>\n",
       "    </tr>\n",
       "    <tr>\n",
       "      <th>199</th>\n",
       "      <td>Female</td>\n",
       "      <td>18</td>\n",
       "      <td>5</td>\n",
       "      <td>5</td>\n",
       "      <td>3</td>\n",
       "      <td>6</td>\n",
       "      <td>1</td>\n",
       "      <td>extraverted</td>\n",
       "    </tr>\n",
       "  </tbody>\n",
       "</table>\n",
       "<p>100 rows × 8 columns</p>\n",
       "</div>"
      ],
      "text/plain": [
       "     Gender  Age  openness  neuroticism  conscientiousness  agreeableness  \\\n",
       "100    Male   18         5            3                  3              6   \n",
       "101  Female   19         6            5                  2              3   \n",
       "102    Male   27         7            5                  6              7   \n",
       "103    Male   17         6            5                  4              7   \n",
       "104  Female   21         4            6                  3              5   \n",
       "..      ...  ...       ...          ...                ...            ...   \n",
       "195    Male   19         4            5                  5              7   \n",
       "196  Female   18         5            3                  1              5   \n",
       "197  Female   18         2            7                  1              4   \n",
       "198    Male   20         6            6                  1              2   \n",
       "199  Female   18         5            5                  3              6   \n",
       "\n",
       "     extraversion Personality (Class label)  \n",
       "100             2               responsible  \n",
       "101             3                    lively  \n",
       "102             3                dependable  \n",
       "103             5                dependable  \n",
       "104             2                    lively  \n",
       "..            ...                       ...  \n",
       "195             5               extraverted  \n",
       "196             5               extraverted  \n",
       "197             4               responsible  \n",
       "198             2                    lively  \n",
       "199             1               extraverted  \n",
       "\n",
       "[100 rows x 8 columns]"
      ]
     },
     "execution_count": 139,
     "metadata": {},
     "output_type": "execute_result"
    }
   ],
   "source": [
    "chunk2 = next(dataset)\n",
    "chunk2"
   ]
  },
  {
   "cell_type": "code",
   "execution_count": 141,
   "id": "0f55d7de-e4fe-4ab5-b385-0652254adb57",
   "metadata": {},
   "outputs": [],
   "source": [
    "def infinite_loop():\n",
    "    i = 0\n",
    "    while True:\n",
    "        yield i\n",
    "        i += 1"
   ]
  },
  {
   "cell_type": "code",
   "execution_count": null,
   "id": "482ba9a5-42d9-405f-803b-4c9adbc9c6ac",
   "metadata": {},
   "outputs": [],
   "source": []
  },
  {
   "cell_type": "code",
   "execution_count": 145,
   "id": "329cb023-aca0-451b-a8b7-cb1d06fe0f68",
   "metadata": {},
   "outputs": [
    {
     "name": "stdout",
     "output_type": "stream",
     "text": [
      "0\n",
      "1\n",
      "2\n"
     ]
    }
   ],
   "source": [
    "inf = infinite_loop()\n",
    "print(next(inf))\n",
    "print(next(inf))\n",
    "print(next(inf))"
   ]
  },
  {
   "cell_type": "code",
   "execution_count": 146,
   "id": "c20b6095-cc52-4999-8197-aaf0171b9c1e",
   "metadata": {},
   "outputs": [
    {
     "name": "stdout",
     "output_type": "stream",
     "text": [
      "Less than 10\n",
      "Less than 10\n",
      "Less than 10\n",
      "Less than 10\n",
      "Less than 10\n",
      "Less than 10\n",
      "Less than 10\n"
     ]
    }
   ],
   "source": [
    "while next(inf) < 10:\n",
    "    print('Less than 10')"
   ]
  },
  {
   "cell_type": "code",
   "execution_count": 147,
   "id": "7b09ada0-f5a6-43c8-b68b-c7fcf6d8f83b",
   "metadata": {},
   "outputs": [],
   "source": [
    "nums_squared_lc = [num ** 2 for num in range(5)]\n",
    "nums_squared_gc = (i ** 2 for i in range(10000))"
   ]
  },
  {
   "cell_type": "code",
   "execution_count": 148,
   "id": "2e49891a-6af9-42a7-95b1-fd355879c7a7",
   "metadata": {},
   "outputs": [],
   "source": [
    "import sys\n",
    "# print(sys.getsizeof(nums_squared_lc))\n",
    "# print(sys.getsizeof(nums_squared_gc))"
   ]
  },
  {
   "cell_type": "code",
   "execution_count": null,
   "id": "9641c0af-ed0a-4c3c-9c74-70956aa9fb81",
   "metadata": {},
   "outputs": [],
   "source": []
  }
 ],
 "metadata": {
  "kernelspec": {
   "display_name": "Python 3 (ipykernel)",
   "language": "python",
   "name": "python3"
  },
  "language_info": {
   "codemirror_mode": {
    "name": "ipython",
    "version": 3
   },
   "file_extension": ".py",
   "mimetype": "text/x-python",
   "name": "python",
   "nbconvert_exporter": "python",
   "pygments_lexer": "ipython3",
   "version": "3.9.7"
  }
 },
 "nbformat": 4,
 "nbformat_minor": 5
}
